{
 "cells": [
  {
   "cell_type": "code",
   "execution_count": 135,
   "metadata": {
    "collapsed": false
   },
   "outputs": [
    {
     "name": "stdout",
     "output_type": "stream",
     "text": [
      "Populating the interactive namespace from numpy and matplotlib\n",
      "/gws/open/NYCOpenData/nycopendata/data\n"
     ]
    },
    {
     "name": "stderr",
     "output_type": "stream",
     "text": [
      "/opt/rh/anaconda/root/envs/PUI2016_Python3/lib/python3.5/site-packages/IPython/core/magics/pylab.py:161: UserWarning: pylab import has clobbered these variables: ['plt']\n",
      "`%matplotlib` prevents importing * from pylab and numpy\n",
      "  \"\\n`%matplotlib` prevents importing * from pylab and numpy\"\n"
     ]
    }
   ],
   "source": [
    "from __future__ import division, print_function\n",
    "__author__ = 'LE XU, lx565 CUSP 2016'\n",
    "import sys\n",
    "import os\n",
    "import pandas as pd\n",
    "import numpy as np\n",
    "import matplotlib.pylab as plt\n",
    "import pylab as pl\n",
    "from pandas import Series, DataFrame\n",
    "import pandas\n",
    "%matplotlib inline\n",
    "%pylab inline\n",
    "\n",
    "\n",
    "dfdata = (os.environ.get('DFDATA'))\n",
    "print (dfdata)"
   ]
  },
  {
   "cell_type": "code",
   "execution_count": 136,
   "metadata": {
    "collapsed": false
   },
   "outputs": [
    {
     "data": {
      "text/plain": [
       "True"
      ]
     },
     "execution_count": 136,
     "metadata": {},
     "output_type": "execute_result"
    }
   ],
   "source": [
    "#another way to check Environment variables\n",
    "'DFDATA' in os.environ"
   ]
  },
  {
   "cell_type": "code",
   "execution_count": 134,
   "metadata": {
    "collapsed": false
   },
   "outputs": [
    {
     "name": "stdout",
     "output_type": "stream",
     "text": [
      "/gws/open/NYCOpenData/nycopendata/data/b7kx-qikm\n"
     ]
    },
    {
     "data": {
      "text/html": [
       "<div>\n",
       "<table border=\"1\" class=\"dataframe\">\n",
       "  <thead>\n",
       "    <tr style=\"text-align: right;\">\n",
       "      <th></th>\n",
       "      <th>Borough</th>\n",
       "      <th>Market Name</th>\n",
       "      <th>Street Address</th>\n",
       "      <th>Day(s)</th>\n",
       "      <th>Hours</th>\n",
       "      <th>Distribute Health Bucks</th>\n",
       "      <th>Accepts Health Bucks</th>\n",
       "      <th>EBT</th>\n",
       "      <th>Stellar</th>\n",
       "    </tr>\n",
       "  </thead>\n",
       "  <tbody>\n",
       "    <tr>\n",
       "      <th>0</th>\n",
       "      <td>Bronx</td>\n",
       "      <td>Bissel Gardens Farmers' Market</td>\n",
       "      <td>Baychester Ave &amp; E 241st St</td>\n",
       "      <td>Wednesday &amp; Saturday</td>\n",
       "      <td>9am-5pm</td>\n",
       "      <td>1</td>\n",
       "      <td>1</td>\n",
       "      <td>1</td>\n",
       "      <td>0</td>\n",
       "    </tr>\n",
       "    <tr>\n",
       "      <th>1</th>\n",
       "      <td>Bronx</td>\n",
       "      <td>Bronx Borough Hall Greenmarket</td>\n",
       "      <td>Grand Concourse bet 161st &amp; 162nd Sts</td>\n",
       "      <td>Tuesday</td>\n",
       "      <td>8am-4pm</td>\n",
       "      <td>1</td>\n",
       "      <td>1</td>\n",
       "      <td>1</td>\n",
       "      <td>1</td>\n",
       "    </tr>\n",
       "    <tr>\n",
       "      <th>2</th>\n",
       "      <td>Bronx</td>\n",
       "      <td>Crotona Park Greenmarket</td>\n",
       "      <td>Crotona Park South &amp; Clinton Ave, in Crotona Park</td>\n",
       "      <td>Saturday</td>\n",
       "      <td>8am-3pm</td>\n",
       "      <td>1</td>\n",
       "      <td>1</td>\n",
       "      <td>1</td>\n",
       "      <td>1</td>\n",
       "    </tr>\n",
       "    <tr>\n",
       "      <th>3</th>\n",
       "      <td>Bronx</td>\n",
       "      <td>Harvest Home Co-op City Farmers' Market</td>\n",
       "      <td>140 Bellamy Loop</td>\n",
       "      <td>Saturday</td>\n",
       "      <td>8am-4pm</td>\n",
       "      <td>1</td>\n",
       "      <td>1</td>\n",
       "      <td>1</td>\n",
       "      <td>0</td>\n",
       "    </tr>\n",
       "    <tr>\n",
       "      <th>4</th>\n",
       "      <td>Bronx</td>\n",
       "      <td>Harvest Home Echo Park Market</td>\n",
       "      <td>Ryer &amp; Burnside Aves</td>\n",
       "      <td>Wednesday</td>\n",
       "      <td>8am-4pm</td>\n",
       "      <td>1</td>\n",
       "      <td>1</td>\n",
       "      <td>1</td>\n",
       "      <td>0</td>\n",
       "    </tr>\n",
       "  </tbody>\n",
       "</table>\n",
       "</div>"
      ],
      "text/plain": [
       "  Borough                             Market Name   \\\n",
       "0   Bronx           Bissel Gardens Farmers' Market   \n",
       "1   Bronx           Bronx Borough Hall Greenmarket   \n",
       "2   Bronx                 Crotona Park Greenmarket   \n",
       "3   Bronx  Harvest Home Co-op City Farmers' Market   \n",
       "4   Bronx            Harvest Home Echo Park Market   \n",
       "\n",
       "                                      Street Address                 Day(s)  \\\n",
       "0                        Baychester Ave & E 241st St  Wednesday & Saturday    \n",
       "1              Grand Concourse bet 161st & 162nd Sts               Tuesday    \n",
       "2  Crotona Park South & Clinton Ave, in Crotona Park               Saturday   \n",
       "3                                   140 Bellamy Loop               Saturday   \n",
       "4                              Ryer & Burnside Aves               Wednesday   \n",
       "\n",
       "     Hours  Distribute Health Bucks  Accepts Health Bucks  EBT  Stellar  \n",
       "0  9am-5pm                        1                     1    1        0  \n",
       "1  8am-4pm                        1                     1    1        1  \n",
       "2  8am-3pm                        1                     1    1        1  \n",
       "3  8am-4pm                        1                     1    1        0  \n",
       "4  8am-4pm                        1                     1    1        0  "
      ]
     },
     "execution_count": 134,
     "metadata": {},
     "output_type": "execute_result"
    }
   ],
   "source": [
    "print (dfdata +'/b7kx-qikm')\n",
    "data = pd.read_csv(dfdata +'/b7kx-qikm/1414245968/b7kx-qikm')\n",
    "data.head()\n"
   ]
  },
  {
   "cell_type": "code",
   "execution_count": 6,
   "metadata": {
    "collapsed": false,
    "scrolled": true
   },
   "outputs": [
    {
     "data": {
      "text/html": [
       "<div>\n",
       "<table border=\"1\" class=\"dataframe\">\n",
       "  <thead>\n",
       "    <tr style=\"text-align: right;\">\n",
       "      <th></th>\n",
       "      <th>East Coordinate</th>\n",
       "      <th>North Coordinate</th>\n",
       "    </tr>\n",
       "  </thead>\n",
       "  <tbody>\n",
       "    <tr>\n",
       "      <th>0</th>\n",
       "      <td>683434.0</td>\n",
       "      <td>4525146.0</td>\n",
       "    </tr>\n",
       "    <tr>\n",
       "      <th>1</th>\n",
       "      <td>676324.0</td>\n",
       "      <td>4523260.0</td>\n",
       "    </tr>\n",
       "    <tr>\n",
       "      <th>2</th>\n",
       "      <td>672795.0</td>\n",
       "      <td>4521961.0</td>\n",
       "    </tr>\n",
       "    <tr>\n",
       "      <th>3</th>\n",
       "      <td>682753.0</td>\n",
       "      <td>4520622.0</td>\n",
       "    </tr>\n",
       "    <tr>\n",
       "      <th>4</th>\n",
       "      <td>602400.0</td>\n",
       "      <td>4506800.0</td>\n",
       "    </tr>\n",
       "  </tbody>\n",
       "</table>\n",
       "</div>"
      ],
      "text/plain": [
       "   East Coordinate  North Coordinate\n",
       "0         683434.0         4525146.0\n",
       "1         676324.0         4523260.0\n",
       "2         672795.0         4521961.0\n",
       "3         682753.0         4520622.0\n",
       "4         602400.0         4506800.0"
      ]
     },
     "execution_count": 6,
     "metadata": {},
     "output_type": "execute_result"
    }
   ],
   "source": [
    "# DROP COLUMN\n",
    "newdata = data[[\"East Coordinate\",\"North Coordinate\"]]\n",
    "#show new modified data\n",
    "newdata.head()"
   ]
  },
  {
   "cell_type": "code",
   "execution_count": 29,
   "metadata": {
    "collapsed": false,
    "scrolled": true
   },
   "outputs": [
    {
     "data": {
      "text/html": [
       "<div>\n",
       "<table border=\"1\" class=\"dataframe\">\n",
       "  <thead>\n",
       "    <tr style=\"text-align: right;\">\n",
       "      <th></th>\n",
       "      <th>x</th>\n",
       "      <th>y</th>\n",
       "    </tr>\n",
       "  </thead>\n",
       "  <tbody>\n",
       "    <tr>\n",
       "      <th>0</th>\n",
       "      <td>683434.0</td>\n",
       "      <td>4525146.0</td>\n",
       "    </tr>\n",
       "    <tr>\n",
       "      <th>1</th>\n",
       "      <td>676324.0</td>\n",
       "      <td>4523260.0</td>\n",
       "    </tr>\n",
       "    <tr>\n",
       "      <th>2</th>\n",
       "      <td>672795.0</td>\n",
       "      <td>4521961.0</td>\n",
       "    </tr>\n",
       "    <tr>\n",
       "      <th>3</th>\n",
       "      <td>682753.0</td>\n",
       "      <td>4520622.0</td>\n",
       "    </tr>\n",
       "    <tr>\n",
       "      <th>4</th>\n",
       "      <td>602400.0</td>\n",
       "      <td>4506800.0</td>\n",
       "    </tr>\n",
       "  </tbody>\n",
       "</table>\n",
       "</div>"
      ],
      "text/plain": [
       "          x          y\n",
       "0  683434.0  4525146.0\n",
       "1  676324.0  4523260.0\n",
       "2  672795.0  4521961.0\n",
       "3  682753.0  4520622.0\n",
       "4  602400.0  4506800.0"
      ]
     },
     "execution_count": 29,
     "metadata": {},
     "output_type": "execute_result"
    }
   ],
   "source": [
    "newdata.columns = [\"x\",\"y\"]\n",
    "newdata.head()\n"
   ]
  },
  {
   "cell_type": "code",
   "execution_count": 31,
   "metadata": {
    "collapsed": false
   },
   "outputs": [
    {
     "data": {
      "text/plain": [
       "<matplotlib.collections.PathCollection at 0x7fa48c9fc908>"
      ]
     },
     "execution_count": 31,
     "metadata": {},
     "output_type": "execute_result"
    },
    {
     "data": {
      "image/png": "[encoded data removed]",
      "text/plain": [
       "<matplotlib.figure.Figure at 0x7fa48c9eceb8>"
      ]
     },
     "metadata": {},
     "output_type": "display_data"
    }
   ],
   "source": [
    "plt.ylabel(\"East Coordinate\")\n",
    "plt.xlabel(\"North Coordinate\")\n",
    "plt.title('Solid Waste Management Facilities')\n",
    "#plt.legend(\"Coordinate\",\"b\")\n",
    "\n",
    "plt.scatter(newdata.x, newdata.y, alpha = 0.1)"
   ]
  },
  {
   "cell_type": "code",
   "execution_count": null,
   "metadata": {
    "collapsed": true
   },
   "outputs": [],
   "source": []
  }
 ],
 "metadata": {
  "kernelspec": {
   "display_name": "PUI2016_Python3",
   "language": "python",
   "name": "pui2016_python3"
  },
  "language_info": {
   "codemirror_mode": {
    "name": "ipython",
    "version": 3
   },
   "file_extension": ".py",
   "mimetype": "text/x-python",
   "name": "python",
   "nbconvert_exporter": "python",
   "pygments_lexer": "ipython3",
   "version": "3.5.2"
  }
 },
 "nbformat": 4,
 "nbformat_minor": 0
}
